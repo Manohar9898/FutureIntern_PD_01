{
 "cells": [
  {
   "cell_type": "code",
   "execution_count": 1,
   "id": "07197bec",
   "metadata": {},
   "outputs": [
    {
     "name": "stdout",
     "output_type": "stream",
     "text": [
      "Choose an operation:\n",
      "1. Addition\n",
      "2. Subtraction\n",
      "3. Multiplication\n",
      "4. Division\n",
      "5. Exit\n",
      "Enter your choice (1-5): 1\n",
      "Enter the first number: 150\n",
      "Enter the second number: 25\n",
      "150.0 addition 25.0 = 175.0\n",
      "Choose an operation:\n",
      "1. Addition\n",
      "2. Subtraction\n",
      "3. Multiplication\n",
      "4. Division\n",
      "5. Exit\n",
      "Enter your choice (1-5): 4\n",
      "Enter the first number: 150\n",
      "Enter the second number: 25\n",
      "150.0 division 25.0 = 6.0\n",
      "Choose an operation:\n",
      "1. Addition\n",
      "2. Subtraction\n",
      "3. Multiplication\n",
      "4. Division\n",
      "5. Exit\n",
      "Enter your choice (1-5): 3\n",
      "Enter the first number: 25\n",
      "Enter the second number: 85\n",
      "25.0 multiplication 85.0 = 2125.0\n",
      "Choose an operation:\n",
      "1. Addition\n",
      "2. Subtraction\n",
      "3. Multiplication\n",
      "4. Division\n",
      "5. Exit\n",
      "Enter your choice (1-5): 5\n"
     ]
    }
   ],
   "source": [
    "def calculator():\n",
    "  \"\"\"A basic calculator that performs addition, subtraction, multiplication, and division.\"\"\"\n",
    "\n",
    "  while True:\n",
    "    print(\"Choose an operation:\")\n",
    "    print(\"1. Addition\")\n",
    "    print(\"2. Subtraction\")\n",
    "    print(\"3. Multiplication\")\n",
    "    print(\"4. Division\")\n",
    "    print(\"5. Exit\")\n",
    "\n",
    "    choice = input(\"Enter your choice (1-5): \")\n",
    "\n",
    "    if choice == '5':\n",
    "      break\n",
    "\n",
    "    num1 = float(input(\"Enter the first number: \"))\n",
    "    num2 = float(input(\"Enter the second number: \"))\n",
    "\n",
    "    if choice == '1':\n",
    "      result = num1 + num2\n",
    "      operation = \"addition\"\n",
    "    elif choice == '2':\n",
    "      result = num1 - num2\n",
    "      operation = \"subtraction\"\n",
    "    elif choice == '3':\n",
    "      result = num1 * num2\n",
    "      operation = \"multiplication\"\n",
    "    elif choice == '4':\n",
    "      if num2 == 0:\n",
    "        print(\"Error: Cannot divide by zero.\")\n",
    "        continue\n",
    "      result = num1 / num2\n",
    "      operation = \"division\"\n",
    "    else:\n",
    "      print(\"Invalid choice. Please try again.\")\n",
    "      continue\n",
    "\n",
    "    print(f\"{num1} {operation} {num2} = {result}\")\n",
    "\n",
    "if __name__ == \"__main__\":\n",
    "  calculator()"
   ]
  },
  {
   "cell_type": "code",
   "execution_count": null,
   "id": "d299c564",
   "metadata": {},
   "outputs": [],
   "source": []
  }
 ],
 "metadata": {
  "kernelspec": {
   "display_name": "Python 3 (ipykernel)",
   "language": "python",
   "name": "python3"
  },
  "language_info": {
   "codemirror_mode": {
    "name": "ipython",
    "version": 3
   },
   "file_extension": ".py",
   "mimetype": "text/x-python",
   "name": "python",
   "nbconvert_exporter": "python",
   "pygments_lexer": "ipython3",
   "version": "3.11.5"
  }
 },
 "nbformat": 4,
 "nbformat_minor": 5
}
